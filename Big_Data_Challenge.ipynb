{
  "nbformat": 4,
  "nbformat_minor": 0,
  "metadata": {
    "colab": {
      "name": "Big_Data_Challenge.ipynb",
      "provenance": [],
      "authorship_tag": "ABX9TyOTk4DLetPqpwdMbUTDBCz/",
      "include_colab_link": true
    },
    "kernelspec": {
      "name": "python3",
      "display_name": "Python 3"
    }
  },
  "cells": [
    {
      "cell_type": "markdown",
      "metadata": {
        "id": "view-in-github",
        "colab_type": "text"
      },
      "source": [
        "<a href=\"https://colab.research.google.com/github/Bnibling/Thinkful_Data_Science_Immersion_Portfolio/blob/main/Big_Data_Challenge.ipynb\" target=\"_parent\"><img src=\"https://colab.research.google.com/assets/colab-badge.svg\" alt=\"Open In Colab\"/></a>"
      ]
    },
    {
      "cell_type": "markdown",
      "metadata": {
        "id": "eqm3CWWQzFPQ"
      },
      "source": [
        "In this challenge, you'll replicate one of the supervised learning projects that you did before in the program. This time, you'll use Dask instead of pandas and NumPy. Follow the instructions below:\n",
        "\n",
        "1. The aim of this challenge is to get your hands dirty on writing code using Dask. This is why there is no minimum or maximum limit on the size of the dataset that you can use.\n",
        "\n",
        "2. Use Dask counterparts to replicate all the data-cleaning and machine-learning parts of your supervised learning project. In other words, do the following:\n",
        "\n",
        ">* Instead of pandas DataFrames, use Dask DataFrames whenever possible.\n",
        "\n",
        ">* Instead of NumPy arrays, use Dask arrays whenever possible.\n",
        "\n",
        ">* Use Dask to parallelize your model trainings."
      ]
    },
    {
      "cell_type": "markdown",
      "metadata": {
        "id": "ra_RYpPye_GE"
      },
      "source": [
        "Decided to use dask to build a gradient boost model on the European Social Survey data to determine whether or not comeone lives with a partner."
      ]
    },
    {
      "cell_type": "code",
      "metadata": {
        "colab": {
          "base_uri": "https://localhost:8080/"
        },
        "id": "kq3NOEE8zATt",
        "outputId": "057cdf27-7dfc-4850-f498-eb496dab550b"
      },
      "source": [
        "!pip install dask[dataframe] --upgrade --quiet\n",
        "!pip install dask-ml --quiet\n",
        "!pip install aiohttp --quiet\n",
        "!python -m pip install \"dask[distributed]\" --upgrade"
      ],
      "execution_count": 79,
      "outputs": [
        {
          "output_type": "stream",
          "text": [
            "Requirement already up-to-date: dask[distributed] in /usr/local/lib/python3.6/dist-packages (2021.1.0)\n",
            "Requirement already satisfied, skipping upgrade: pyyaml in /usr/local/lib/python3.6/dist-packages (from dask[distributed]) (3.13)\n",
            "Requirement already satisfied, skipping upgrade: distributed>=2.0; extra == \"distributed\" in /usr/local/lib/python3.6/dist-packages (from dask[distributed]) (2021.1.0)\n",
            "Requirement already satisfied, skipping upgrade: psutil>=5.0 in /usr/local/lib/python3.6/dist-packages (from distributed>=2.0; extra == \"distributed\"->dask[distributed]) (5.4.8)\n",
            "Requirement already satisfied, skipping upgrade: setuptools in /usr/local/lib/python3.6/dist-packages (from distributed>=2.0; extra == \"distributed\"->dask[distributed]) (51.1.1)\n",
            "Requirement already satisfied, skipping upgrade: toolz>=0.8.2 in /usr/local/lib/python3.6/dist-packages (from distributed>=2.0; extra == \"distributed\"->dask[distributed]) (0.11.1)\n",
            "Requirement already satisfied, skipping upgrade: tblib>=1.6.0 in /usr/local/lib/python3.6/dist-packages (from distributed>=2.0; extra == \"distributed\"->dask[distributed]) (1.7.0)\n",
            "Requirement already satisfied, skipping upgrade: zict>=0.1.3 in /usr/local/lib/python3.6/dist-packages (from distributed>=2.0; extra == \"distributed\"->dask[distributed]) (2.0.0)\n",
            "Requirement already satisfied, skipping upgrade: sortedcontainers!=2.0.0,!=2.0.1 in /usr/local/lib/python3.6/dist-packages (from distributed>=2.0; extra == \"distributed\"->dask[distributed]) (2.3.0)\n",
            "Requirement already satisfied, skipping upgrade: tornado>=5; python_version < \"3.8\" in /usr/local/lib/python3.6/dist-packages (from distributed>=2.0; extra == \"distributed\"->dask[distributed]) (5.1.1)\n",
            "Requirement already satisfied, skipping upgrade: contextvars; python_version < \"3.7\" in /usr/local/lib/python3.6/dist-packages (from distributed>=2.0; extra == \"distributed\"->dask[distributed]) (2.4)\n",
            "Requirement already satisfied, skipping upgrade: click>=6.6 in /usr/local/lib/python3.6/dist-packages (from distributed>=2.0; extra == \"distributed\"->dask[distributed]) (7.1.2)\n",
            "Requirement already satisfied, skipping upgrade: cloudpickle>=1.5.0 in /usr/local/lib/python3.6/dist-packages (from distributed>=2.0; extra == \"distributed\"->dask[distributed]) (1.6.0)\n",
            "Requirement already satisfied, skipping upgrade: msgpack>=0.6.0 in /usr/local/lib/python3.6/dist-packages (from distributed>=2.0; extra == \"distributed\"->dask[distributed]) (1.0.2)\n",
            "Requirement already satisfied, skipping upgrade: heapdict in /usr/local/lib/python3.6/dist-packages (from zict>=0.1.3->distributed>=2.0; extra == \"distributed\"->dask[distributed]) (1.0.1)\n",
            "Requirement already satisfied, skipping upgrade: immutables>=0.9 in /usr/local/lib/python3.6/dist-packages (from contextvars; python_version < \"3.7\"->distributed>=2.0; extra == \"distributed\"->dask[distributed]) (0.14)\n"
          ],
          "name": "stdout"
        }
      ]
    },
    {
      "cell_type": "code",
      "metadata": {
        "id": "-_aePyor2FEf"
      },
      "source": [
        "from sklearn.ensemble import RandomForestClassifier, GradientBoostingClassifier\n",
        "from sklearn.linear_model import LogisticRegression\n",
        "from sklearn.metrics import roc_auc_score\n",
        "import joblib\n",
        "from dask.distributed import Client, progress\n",
        "from dask_ml.model_selection import train_test_split\n",
        "import dask.dataframe as dd\n",
        "import dask.array as da\n",
        "import matplotlib.pyplot as plt\n",
        "from sklearn.metrics import confusion_matrix, precision_score, recall_score, plot_confusion_matrix"
      ],
      "execution_count": 126,
      "outputs": []
    },
    {
      "cell_type": "code",
      "metadata": {
        "colab": {
          "base_uri": "https://localhost:8080/",
          "height": 187
        },
        "id": "BXwiljgz0w_i",
        "outputId": "fb9ed257-e2a3-402a-ab83-233f91671749"
      },
      "source": [
        "client = Client(n_workers=4, threads_per_worker=2, memory_limit='2GB')\n",
        "client"
      ],
      "execution_count": 81,
      "outputs": [
        {
          "output_type": "stream",
          "text": [
            "/usr/local/lib/python3.6/dist-packages/distributed/node.py:155: UserWarning: Port 8787 is already in use.\n",
            "Perhaps you already have a cluster running?\n",
            "Hosting the HTTP server on port 33409 instead\n",
            "  http_address[\"port\"], self.http_server.port\n"
          ],
          "name": "stderr"
        },
        {
          "output_type": "execute_result",
          "data": {
            "text/html": [
              "<table style=\"border: 2px solid white;\">\n",
              "<tr>\n",
              "<td style=\"vertical-align: top; border: 0px solid white\">\n",
              "<h3 style=\"text-align: left;\">Client</h3>\n",
              "<ul style=\"text-align: left; list-style: none; margin: 0; padding: 0;\">\n",
              "  <li><b>Scheduler: </b>tcp://127.0.0.1:33831</li>\n",
              "  <li><b>Dashboard: </b><a href='http://127.0.0.1:33409/status' target='_blank'>http://127.0.0.1:33409/status</a></li>\n",
              "</ul>\n",
              "</td>\n",
              "<td style=\"vertical-align: top; border: 0px solid white\">\n",
              "<h3 style=\"text-align: left;\">Cluster</h3>\n",
              "<ul style=\"text-align: left; list-style:none; margin: 0; padding: 0;\">\n",
              "  <li><b>Workers: </b>4</li>\n",
              "  <li><b>Cores: </b>8</li>\n",
              "  <li><b>Memory: </b>8.00 GB</li>\n",
              "</ul>\n",
              "</td>\n",
              "</tr>\n",
              "</table>"
            ],
            "text/plain": [
              "<Client: 'tcp://127.0.0.1:33831' processes=4 threads=8, memory=8.00 GB>"
            ]
          },
          "metadata": {
            "tags": []
          },
          "execution_count": 81
        }
      ]
    },
    {
      "cell_type": "code",
      "metadata": {
        "id": "mI_fwsaLWXt4"
      },
      "source": [
        "df = dd.read_csv(\"https://raw.githubusercontent.com/Thinkful-Ed/data-201-resources/\"\n",
        "    \"master/ESS_practice_data/ESSdata_Thinkful.csv\")"
      ],
      "execution_count": 82,
      "outputs": []
    },
    {
      "cell_type": "code",
      "metadata": {
        "colab": {
          "base_uri": "https://localhost:8080/",
          "height": 198
        },
        "id": "IEuuZBSNWXme",
        "outputId": "9036d4ed-5363-4b94-e43e-6b22c91a08cd"
      },
      "source": [
        "df.head()"
      ],
      "execution_count": 83,
      "outputs": [
        {
          "output_type": "execute_result",
          "data": {
            "text/html": [
              "<div>\n",
              "<style scoped>\n",
              "    .dataframe tbody tr th:only-of-type {\n",
              "        vertical-align: middle;\n",
              "    }\n",
              "\n",
              "    .dataframe tbody tr th {\n",
              "        vertical-align: top;\n",
              "    }\n",
              "\n",
              "    .dataframe thead th {\n",
              "        text-align: right;\n",
              "    }\n",
              "</style>\n",
              "<table border=\"1\" class=\"dataframe\">\n",
              "  <thead>\n",
              "    <tr style=\"text-align: right;\">\n",
              "      <th></th>\n",
              "      <th>cntry</th>\n",
              "      <th>idno</th>\n",
              "      <th>year</th>\n",
              "      <th>tvtot</th>\n",
              "      <th>ppltrst</th>\n",
              "      <th>pplfair</th>\n",
              "      <th>pplhlp</th>\n",
              "      <th>happy</th>\n",
              "      <th>sclmeet</th>\n",
              "      <th>sclact</th>\n",
              "      <th>gndr</th>\n",
              "      <th>agea</th>\n",
              "      <th>partner</th>\n",
              "    </tr>\n",
              "  </thead>\n",
              "  <tbody>\n",
              "    <tr>\n",
              "      <th>0</th>\n",
              "      <td>CH</td>\n",
              "      <td>5.0</td>\n",
              "      <td>6</td>\n",
              "      <td>3.0</td>\n",
              "      <td>3.0</td>\n",
              "      <td>10.0</td>\n",
              "      <td>5.0</td>\n",
              "      <td>8.0</td>\n",
              "      <td>5.0</td>\n",
              "      <td>4.0</td>\n",
              "      <td>2.0</td>\n",
              "      <td>60.0</td>\n",
              "      <td>1.0</td>\n",
              "    </tr>\n",
              "    <tr>\n",
              "      <th>1</th>\n",
              "      <td>CH</td>\n",
              "      <td>25.0</td>\n",
              "      <td>6</td>\n",
              "      <td>6.0</td>\n",
              "      <td>5.0</td>\n",
              "      <td>7.0</td>\n",
              "      <td>5.0</td>\n",
              "      <td>9.0</td>\n",
              "      <td>3.0</td>\n",
              "      <td>2.0</td>\n",
              "      <td>2.0</td>\n",
              "      <td>59.0</td>\n",
              "      <td>1.0</td>\n",
              "    </tr>\n",
              "    <tr>\n",
              "      <th>2</th>\n",
              "      <td>CH</td>\n",
              "      <td>26.0</td>\n",
              "      <td>6</td>\n",
              "      <td>1.0</td>\n",
              "      <td>8.0</td>\n",
              "      <td>8.0</td>\n",
              "      <td>8.0</td>\n",
              "      <td>7.0</td>\n",
              "      <td>6.0</td>\n",
              "      <td>3.0</td>\n",
              "      <td>1.0</td>\n",
              "      <td>24.0</td>\n",
              "      <td>2.0</td>\n",
              "    </tr>\n",
              "    <tr>\n",
              "      <th>3</th>\n",
              "      <td>CH</td>\n",
              "      <td>28.0</td>\n",
              "      <td>6</td>\n",
              "      <td>4.0</td>\n",
              "      <td>6.0</td>\n",
              "      <td>6.0</td>\n",
              "      <td>7.0</td>\n",
              "      <td>10.0</td>\n",
              "      <td>6.0</td>\n",
              "      <td>2.0</td>\n",
              "      <td>2.0</td>\n",
              "      <td>64.0</td>\n",
              "      <td>1.0</td>\n",
              "    </tr>\n",
              "    <tr>\n",
              "      <th>4</th>\n",
              "      <td>CH</td>\n",
              "      <td>29.0</td>\n",
              "      <td>6</td>\n",
              "      <td>5.0</td>\n",
              "      <td>6.0</td>\n",
              "      <td>7.0</td>\n",
              "      <td>5.0</td>\n",
              "      <td>8.0</td>\n",
              "      <td>7.0</td>\n",
              "      <td>2.0</td>\n",
              "      <td>2.0</td>\n",
              "      <td>55.0</td>\n",
              "      <td>1.0</td>\n",
              "    </tr>\n",
              "  </tbody>\n",
              "</table>\n",
              "</div>"
            ],
            "text/plain": [
              "  cntry  idno  year  tvtot  ppltrst  ...  sclmeet  sclact  gndr  agea  partner\n",
              "0    CH   5.0     6    3.0      3.0  ...      5.0     4.0   2.0  60.0      1.0\n",
              "1    CH  25.0     6    6.0      5.0  ...      3.0     2.0   2.0  59.0      1.0\n",
              "2    CH  26.0     6    1.0      8.0  ...      6.0     3.0   1.0  24.0      2.0\n",
              "3    CH  28.0     6    4.0      6.0  ...      6.0     2.0   2.0  64.0      1.0\n",
              "4    CH  29.0     6    5.0      6.0  ...      7.0     2.0   2.0  55.0      1.0\n",
              "\n",
              "[5 rows x 13 columns]"
            ]
          },
          "metadata": {
            "tags": []
          },
          "execution_count": 83
        }
      ]
    },
    {
      "cell_type": "code",
      "metadata": {
        "colab": {
          "base_uri": "https://localhost:8080/"
        },
        "id": "hMkjUMi5WeDU",
        "outputId": "d69c0af2-b372-45e6-bd14-bcdd675fd2e2"
      },
      "source": [
        "df.info()"
      ],
      "execution_count": 84,
      "outputs": [
        {
          "output_type": "stream",
          "text": [
            "<class 'dask.dataframe.core.DataFrame'>\n",
            "Columns: 13 entries, cntry to partner\n",
            "dtypes: object(1), float64(11), int64(1)"
          ],
          "name": "stdout"
        }
      ]
    },
    {
      "cell_type": "code",
      "metadata": {
        "colab": {
          "base_uri": "https://localhost:8080/"
        },
        "id": "KooI1YY-Wnia",
        "outputId": "c8d1bf07-1026-4d87-ee7a-806ad2b314fc"
      },
      "source": [
        "df.shape[0].compute()"
      ],
      "execution_count": 85,
      "outputs": [
        {
          "output_type": "execute_result",
          "data": {
            "text/plain": [
              "8594"
            ]
          },
          "metadata": {
            "tags": []
          },
          "execution_count": 85
        }
      ]
    },
    {
      "cell_type": "markdown",
      "metadata": {
        "id": "0LKvKEzyfs_Q"
      },
      "source": [
        "#1. Cleaning"
      ]
    },
    {
      "cell_type": "code",
      "metadata": {
        "colab": {
          "base_uri": "https://localhost:8080/"
        },
        "id": "ast4Pz8YWqL4",
        "outputId": "a60368b7-4650-443b-fe90-4db33d6c9885"
      },
      "source": [
        "df.isnull().sum().compute().sort_values(ascending=False)"
      ],
      "execution_count": 86,
      "outputs": [
        {
          "output_type": "execute_result",
          "data": {
            "text/plain": [
              "agea       239\n",
              "sclact      94\n",
              "pplfair     39\n",
              "happy       31\n",
              "pplhlp      25\n",
              "partner     17\n",
              "sclmeet     15\n",
              "ppltrst     14\n",
              "gndr        10\n",
              "tvtot        8\n",
              "year         0\n",
              "idno         0\n",
              "cntry        0\n",
              "dtype: int64"
            ]
          },
          "metadata": {
            "tags": []
          },
          "execution_count": 86
        }
      ]
    },
    {
      "cell_type": "code",
      "metadata": {
        "id": "swY7ruiSWzIT"
      },
      "source": [
        "df = df.dropna()"
      ],
      "execution_count": 87,
      "outputs": []
    },
    {
      "cell_type": "code",
      "metadata": {
        "colab": {
          "base_uri": "https://localhost:8080/"
        },
        "id": "8l5g8wrdW5Cq",
        "outputId": "245fedfe-2aed-4376-d379-6c257df5a16b"
      },
      "source": [
        "df.isnull().sum().compute().sort_values(ascending=False)"
      ],
      "execution_count": 88,
      "outputs": [
        {
          "output_type": "execute_result",
          "data": {
            "text/plain": [
              "partner    0\n",
              "agea       0\n",
              "gndr       0\n",
              "sclact     0\n",
              "sclmeet    0\n",
              "happy      0\n",
              "pplhlp     0\n",
              "pplfair    0\n",
              "ppltrst    0\n",
              "tvtot      0\n",
              "year       0\n",
              "idno       0\n",
              "cntry      0\n",
              "dtype: int64"
            ]
          },
          "metadata": {
            "tags": []
          },
          "execution_count": 88
        }
      ]
    },
    {
      "cell_type": "code",
      "metadata": {
        "colab": {
          "base_uri": "https://localhost:8080/"
        },
        "id": "5BusHuVgYEQj",
        "outputId": "da24c233-6a62-4567-cffd-1d31704a9c09"
      },
      "source": [
        "df['partner'].value_counts().compute()"
      ],
      "execution_count": 89,
      "outputs": [
        {
          "output_type": "execute_result",
          "data": {
            "text/plain": [
              "1.0    5013\n",
              "2.0    3134\n",
              "Name: partner, dtype: int64"
            ]
          },
          "metadata": {
            "tags": []
          },
          "execution_count": 89
        }
      ]
    },
    {
      "cell_type": "code",
      "metadata": {
        "id": "Jq801nJiW6QG"
      },
      "source": [
        "df['partner'] = df['partner'].mask(df['partner'] == 2.0, 1).mask(df['partner'] == 1.0, 0).astype('int')"
      ],
      "execution_count": 90,
      "outputs": []
    },
    {
      "cell_type": "code",
      "metadata": {
        "colab": {
          "base_uri": "https://localhost:8080/"
        },
        "id": "aBPHzZpsXyoX",
        "outputId": "aedde397-dbd0-45f6-b468-7e6102173b86"
      },
      "source": [
        "df['partner'].value_counts().compute()"
      ],
      "execution_count": 91,
      "outputs": [
        {
          "output_type": "execute_result",
          "data": {
            "text/plain": [
              "0    5013\n",
              "1    3134\n",
              "Name: partner, dtype: int64"
            ]
          },
          "metadata": {
            "tags": []
          },
          "execution_count": 91
        }
      ]
    },
    {
      "cell_type": "code",
      "metadata": {
        "id": "c7U82sWCaZGJ"
      },
      "source": [
        "df['cntry'] = df['cntry'].astype('category')"
      ],
      "execution_count": 93,
      "outputs": []
    },
    {
      "cell_type": "code",
      "metadata": {
        "colab": {
          "base_uri": "https://localhost:8080/"
        },
        "id": "2v7d05MkZBRW",
        "outputId": "4f982c3a-8d5b-4a8a-cf23-878a9d27a581"
      },
      "source": [
        "df = dd.concat([df, dd.get_dummies(df['cntry'].cat.as_known())], axis=1)"
      ],
      "execution_count": 94,
      "outputs": [
        {
          "output_type": "stream",
          "text": [
            "/usr/local/lib/python3.6/dist-packages/dask/dataframe/multi.py:1133: UserWarning: Concatenating dataframes with unknown divisions.\n",
            "We're assuming that the indices of each dataframes are \n",
            " aligned. This assumption is not generally safe.\n",
            "  \"Concatenating dataframes with unknown divisions.\\n\"\n"
          ],
          "name": "stderr"
        }
      ]
    },
    {
      "cell_type": "code",
      "metadata": {
        "colab": {
          "base_uri": "https://localhost:8080/",
          "height": 218
        },
        "id": "9qYfiQx8aIqr",
        "outputId": "257eb028-29a9-4c3e-d86b-9c3a0b0f396e"
      },
      "source": [
        "df.head()"
      ],
      "execution_count": 95,
      "outputs": [
        {
          "output_type": "execute_result",
          "data": {
            "text/html": [
              "<div>\n",
              "<style scoped>\n",
              "    .dataframe tbody tr th:only-of-type {\n",
              "        vertical-align: middle;\n",
              "    }\n",
              "\n",
              "    .dataframe tbody tr th {\n",
              "        vertical-align: top;\n",
              "    }\n",
              "\n",
              "    .dataframe thead th {\n",
              "        text-align: right;\n",
              "    }\n",
              "</style>\n",
              "<table border=\"1\" class=\"dataframe\">\n",
              "  <thead>\n",
              "    <tr style=\"text-align: right;\">\n",
              "      <th></th>\n",
              "      <th>cntry</th>\n",
              "      <th>idno</th>\n",
              "      <th>year</th>\n",
              "      <th>tvtot</th>\n",
              "      <th>ppltrst</th>\n",
              "      <th>pplfair</th>\n",
              "      <th>pplhlp</th>\n",
              "      <th>happy</th>\n",
              "      <th>sclmeet</th>\n",
              "      <th>sclact</th>\n",
              "      <th>gndr</th>\n",
              "      <th>agea</th>\n",
              "      <th>partner</th>\n",
              "      <th>CH</th>\n",
              "      <th>CZ</th>\n",
              "      <th>DE</th>\n",
              "      <th>ES</th>\n",
              "      <th>NO</th>\n",
              "      <th>SE</th>\n",
              "    </tr>\n",
              "  </thead>\n",
              "  <tbody>\n",
              "    <tr>\n",
              "      <th>0</th>\n",
              "      <td>CH</td>\n",
              "      <td>5.0</td>\n",
              "      <td>6</td>\n",
              "      <td>3.0</td>\n",
              "      <td>3.0</td>\n",
              "      <td>10.0</td>\n",
              "      <td>5.0</td>\n",
              "      <td>8.0</td>\n",
              "      <td>5.0</td>\n",
              "      <td>4.0</td>\n",
              "      <td>2.0</td>\n",
              "      <td>60.0</td>\n",
              "      <td>0</td>\n",
              "      <td>1</td>\n",
              "      <td>0</td>\n",
              "      <td>0</td>\n",
              "      <td>0</td>\n",
              "      <td>0</td>\n",
              "      <td>0</td>\n",
              "    </tr>\n",
              "    <tr>\n",
              "      <th>1</th>\n",
              "      <td>CH</td>\n",
              "      <td>25.0</td>\n",
              "      <td>6</td>\n",
              "      <td>6.0</td>\n",
              "      <td>5.0</td>\n",
              "      <td>7.0</td>\n",
              "      <td>5.0</td>\n",
              "      <td>9.0</td>\n",
              "      <td>3.0</td>\n",
              "      <td>2.0</td>\n",
              "      <td>2.0</td>\n",
              "      <td>59.0</td>\n",
              "      <td>0</td>\n",
              "      <td>1</td>\n",
              "      <td>0</td>\n",
              "      <td>0</td>\n",
              "      <td>0</td>\n",
              "      <td>0</td>\n",
              "      <td>0</td>\n",
              "    </tr>\n",
              "    <tr>\n",
              "      <th>2</th>\n",
              "      <td>CH</td>\n",
              "      <td>26.0</td>\n",
              "      <td>6</td>\n",
              "      <td>1.0</td>\n",
              "      <td>8.0</td>\n",
              "      <td>8.0</td>\n",
              "      <td>8.0</td>\n",
              "      <td>7.0</td>\n",
              "      <td>6.0</td>\n",
              "      <td>3.0</td>\n",
              "      <td>1.0</td>\n",
              "      <td>24.0</td>\n",
              "      <td>1</td>\n",
              "      <td>1</td>\n",
              "      <td>0</td>\n",
              "      <td>0</td>\n",
              "      <td>0</td>\n",
              "      <td>0</td>\n",
              "      <td>0</td>\n",
              "    </tr>\n",
              "    <tr>\n",
              "      <th>3</th>\n",
              "      <td>CH</td>\n",
              "      <td>28.0</td>\n",
              "      <td>6</td>\n",
              "      <td>4.0</td>\n",
              "      <td>6.0</td>\n",
              "      <td>6.0</td>\n",
              "      <td>7.0</td>\n",
              "      <td>10.0</td>\n",
              "      <td>6.0</td>\n",
              "      <td>2.0</td>\n",
              "      <td>2.0</td>\n",
              "      <td>64.0</td>\n",
              "      <td>0</td>\n",
              "      <td>1</td>\n",
              "      <td>0</td>\n",
              "      <td>0</td>\n",
              "      <td>0</td>\n",
              "      <td>0</td>\n",
              "      <td>0</td>\n",
              "    </tr>\n",
              "    <tr>\n",
              "      <th>4</th>\n",
              "      <td>CH</td>\n",
              "      <td>29.0</td>\n",
              "      <td>6</td>\n",
              "      <td>5.0</td>\n",
              "      <td>6.0</td>\n",
              "      <td>7.0</td>\n",
              "      <td>5.0</td>\n",
              "      <td>8.0</td>\n",
              "      <td>7.0</td>\n",
              "      <td>2.0</td>\n",
              "      <td>2.0</td>\n",
              "      <td>55.0</td>\n",
              "      <td>0</td>\n",
              "      <td>1</td>\n",
              "      <td>0</td>\n",
              "      <td>0</td>\n",
              "      <td>0</td>\n",
              "      <td>0</td>\n",
              "      <td>0</td>\n",
              "    </tr>\n",
              "  </tbody>\n",
              "</table>\n",
              "</div>"
            ],
            "text/plain": [
              "  cntry  idno  year  tvtot  ppltrst  pplfair  ...  CH  CZ  DE  ES  NO  SE\n",
              "0    CH   5.0     6    3.0      3.0     10.0  ...   1   0   0   0   0   0\n",
              "1    CH  25.0     6    6.0      5.0      7.0  ...   1   0   0   0   0   0\n",
              "2    CH  26.0     6    1.0      8.0      8.0  ...   1   0   0   0   0   0\n",
              "3    CH  28.0     6    4.0      6.0      6.0  ...   1   0   0   0   0   0\n",
              "4    CH  29.0     6    5.0      6.0      7.0  ...   1   0   0   0   0   0\n",
              "\n",
              "[5 rows x 19 columns]"
            ]
          },
          "metadata": {
            "tags": []
          },
          "execution_count": 95
        }
      ]
    },
    {
      "cell_type": "markdown",
      "metadata": {
        "id": "8Hl1kGxMfmUR"
      },
      "source": [
        "#2. Modeling"
      ]
    },
    {
      "cell_type": "code",
      "metadata": {
        "id": "Y2woZbBlYchW"
      },
      "source": [
        "X = df.drop(['partner', 'cntry', 'idno'], 1)\n",
        "y = df['partner']\n",
        "\n",
        "X_train, X_test, y_train, y_test = train_test_split(X, y, test_size=0.2, shuffle=True)"
      ],
      "execution_count": 97,
      "outputs": []
    },
    {
      "cell_type": "code",
      "metadata": {
        "id": "IlqxRo0PasD9"
      },
      "source": [
        "params = {'n_estimators': 500,\n",
        "          'max_depth': 2,\n",
        "          'loss': 'deviance'}\n",
        "\n",
        "gbc = GradientBoostingClassifier(**params)\n",
        "\n",
        "with joblib.parallel_backend('dask'):\n",
        "  gbc.fit(X_train.compute(), y_train.compute())\n",
        "\n",
        "y_pred_train = gbc.predict(X_train.values.compute())\n",
        "y_pred_test = gbc.predict(X_test.values.compute())"
      ],
      "execution_count": 98,
      "outputs": []
    },
    {
      "cell_type": "code",
      "metadata": {
        "colab": {
          "base_uri": "https://localhost:8080/",
          "height": 281
        },
        "id": "Rx8C8M1xbQ0d",
        "outputId": "3af24a7f-bc57-43f1-c01f-8a14e8685f99"
      },
      "source": [
        "plot_confusion_matrix(gbc, X_test.compute(), y_test.compute(), values_format='.0f', cmap='Blues')\n",
        "plt.show()"
      ],
      "execution_count": 104,
      "outputs": [
        {
          "output_type": "display_data",
          "data": {
            "image/png": "[encoded data removed]",
            "text/plain": [
              "<Figure size 432x288 with 2 Axes>"
            ]
          },
          "metadata": {
            "tags": [],
            "needs_background": "light"
          }
        }
      ]
    },
    {
      "cell_type": "code",
      "metadata": {
        "colab": {
          "base_uri": "https://localhost:8080/",
          "height": 282
        },
        "id": "Edt2nc08byZX",
        "outputId": "7c254b46-dc9a-4edc-f95c-7e546435312c"
      },
      "source": [
        "plot_confusion_matrix(gbc, X_test.compute(), y_test.compute(), cmap='Blues', normalize='true')\n",
        "plt.show()"
      ],
      "execution_count": 107,
      "outputs": [
        {
          "output_type": "display_data",
          "data": {
            "image/png": "[encoded data removed]",
            "text/plain": [
              "<Figure size 432x288 with 2 Axes>"
            ]
          },
          "metadata": {
            "tags": [],
            "needs_background": "light"
          }
        }
      ]
    },
    {
      "cell_type": "code",
      "metadata": {
        "colab": {
          "base_uri": "https://localhost:8080/"
        },
        "id": "nCIZdeHJWPNP",
        "outputId": "7b919072-5689-4e32-f500-ca1c12f0826b"
      },
      "source": [
        "gbc_score = gbc.score(X_test.compute(), y_test.compute())\n",
        "gbc_precision = precision_score(y_test.compute(), y_pred_test)\n",
        "gbc_recall = recall_score(y_test.compute(), y_pred_test)\n",
        "\n",
        "print(f'Gradient boosting test score is: {gbc_score}')\n",
        "print(f'Gradient boosting test precision score is: {gbc_precision}')\n",
        "print(f'Gradient boosting test recall score is: {gbc_recall}')"
      ],
      "execution_count": 123,
      "outputs": [
        {
          "output_type": "stream",
          "text": [
            "Gradient boosting test score is: 0.7457932692307693\n",
            "Gradient boosting test precision score is: 0.7780373831775701\n",
            "Gradient boosting test recall score is: 0.5037821482602118\n"
          ],
          "name": "stdout"
        }
      ]
    },
    {
      "cell_type": "code",
      "metadata": {
        "colab": {
          "base_uri": "https://localhost:8080/",
          "height": 295
        },
        "id": "2zPRzM6XdawZ",
        "outputId": "8b5fb531-113c-4ffc-b603-acfdc8f4998a"
      },
      "source": [
        "import numpy as np #there is no argsort for dask.array\n",
        "\n",
        "feature_importance = gbc.feature_importances_\n",
        "feature_importance = 100.0 * (feature_importance / feature_importance.max())\n",
        "sorted_idx = np.argsort(feature_importance)\n",
        "pos = da.arange(sorted_idx.shape[0]) + .5\n",
        "plt.subplot(1, 2, 2)\n",
        "plt.barh(pos.compute(), feature_importance[sorted_idx], align='center')\n",
        "plt.yticks(pos.compute(), X.columns[sorted_idx])\n",
        "plt.xlabel('Relative Importance')\n",
        "plt.title('Variable Importance')\n",
        "plt.show()"
      ],
      "execution_count": 135,
      "outputs": [
        {
          "output_type": "display_data",
          "data": {
            "image/png": "[encoded data removed]",
            "text/plain": [
              "<Figure size 432x288 with 1 Axes>"
            ]
          },
          "metadata": {
            "tags": [],
            "needs_background": "light"
          }
        }
      ]
    }
  ]
}