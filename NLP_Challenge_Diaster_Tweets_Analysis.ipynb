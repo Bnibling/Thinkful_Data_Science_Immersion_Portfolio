{
  "nbformat": 4,
  "nbformat_minor": 0,
  "metadata": {
    "colab": {
      "name": "NLP_Challenge_Diaster_Tweets_Analysis.ipynb",
      "provenance": [],
      "collapsed_sections": [],
      "mount_file_id": "1YRuCKNAYFWQ4oQPjzJDgddRIBd22pstC",
      "authorship_tag": "ABX9TyPZkiHflBApjkGTjb33KY5t",
      "include_colab_link": true
    },
    "kernelspec": {
      "name": "python3",
      "display_name": "Python 3"
    }
  },
  "cells": [
    {
      "cell_type": "markdown",
      "metadata": {
        "id": "view-in-github",
        "colab_type": "text"
      },
      "source": [
        "<a href=\"https://colab.research.google.com/github/Bnibling/Thinkful_Data_Science_Immersion_Portfolio/blob/main/NLP_Challenge_Diaster_Tweets_Analysis.ipynb\" target=\"_parent\"><img src=\"https://colab.research.google.com/assets/colab-badge.svg\" alt=\"Open In Colab\"/></a>"
      ]
    },
    {
      "cell_type": "markdown",
      "metadata": {
        "id": "x-nBxFBUc4Q9"
      },
      "source": [
        "# NLP Challenge- Diaster Tweets Text Analysis\n",
        "\n",
        "The following notebook explores, cleans and attempts to model with various classifers the data provided by Kaggle's [Natural Language Processing with Disaster Tweets Competition](https://www.kaggle.com/c/nlp-getting-started/data) which labels 7613 tweets as according during a diaster or not."
      ]
    },
    {
      "cell_type": "code",
      "metadata": {
        "colab": {
          "base_uri": "https://localhost:8080/"
        },
        "id": "gD24EXXfgbys",
        "outputId": "f0872a79-79db-4f8a-f1fb-02b2c27e27b9"
      },
      "source": [
        "import matplotlib.pyplot as plt\n",
        "import numpy as np\n",
        "import pandas as pd\n",
        "import seaborn as sns\n",
        "import re\n",
        "import string\n",
        "import collections\n",
        "\n",
        "import nltk\n",
        "nltk.download('stopwords')\n",
        "nltk.download('punkt')\n",
        "nltk.download('averaged_perceptron_tagger')\n",
        "nltk.download('wordnet')\n",
        "from nltk import pos_tag\n",
        "from nltk.corpus import stopwords, wordnet\n",
        "from nltk import word_tokenize\n",
        "from nltk.stem.wordnet import WordNetLemmatizer\n",
        "\n",
        "from sklearn.pipeline import Pipeline\n",
        "from sklearn.model_selection import train_test_split\n",
        "from sklearn.feature_extraction.text import CountVectorizer, TfidfVectorizer\n",
        "from sklearn.model_selection import GridSearchCV\n",
        "from sklearn.metrics import classification_report, plot_confusion_matrix\n",
        "from sklearn.model_selection import cross_val_score\n",
        "from sklearn.ensemble import RandomForestClassifier, GradientBoostingClassifier\n",
        "from sklearn.linear_model import LogisticRegression"
      ],
      "execution_count": 33,
      "outputs": [
        {
          "output_type": "stream",
          "text": [
            "[nltk_data] Downloading package stopwords to /root/nltk_data...\n",
            "[nltk_data]   Package stopwords is already up-to-date!\n",
            "[nltk_data] Downloading package punkt to /root/nltk_data...\n",
            "[nltk_data]   Package punkt is already up-to-date!\n",
            "[nltk_data] Downloading package averaged_perceptron_tagger to\n",
            "[nltk_data]     /root/nltk_data...\n",
            "[nltk_data]   Package averaged_perceptron_tagger is already up-to-\n",
            "[nltk_data]       date!\n",
            "[nltk_data] Downloading package wordnet to /root/nltk_data...\n",
            "[nltk_data]   Package wordnet is already up-to-date!\n"
          ],
          "name": "stdout"
        }
      ]
    },
    {
      "cell_type": "code",
      "metadata": {
        "id": "f5kod4AncKJ0"
      },
      "source": [
        "train_data = '/content/drive/MyDrive/Thinkful/NLP/nlp-getting-started/train.csv'\n",
        "\n",
        "train_df = pd.read_csv(train_data)"
      ],
      "execution_count": 4,
      "outputs": []
    },
    {
      "cell_type": "markdown",
      "metadata": {
        "id": "5_JNT8tHhNXk"
      },
      "source": [
        "# EDA"
      ]
    },
    {
      "cell_type": "code",
      "metadata": {
        "colab": {
          "base_uri": "https://localhost:8080/",
          "height": 405
        },
        "id": "ZNM0wvHshBR_",
        "outputId": "39f29a02-7dcb-439d-eddf-d99d54222574"
      },
      "source": [
        "train_df.info()\n",
        "train_df.head()"
      ],
      "execution_count": 5,
      "outputs": [
        {
          "output_type": "stream",
          "text": [
            "<class 'pandas.core.frame.DataFrame'>\n",
            "RangeIndex: 7613 entries, 0 to 7612\n",
            "Data columns (total 5 columns):\n",
            " #   Column    Non-Null Count  Dtype \n",
            "---  ------    --------------  ----- \n",
            " 0   id        7613 non-null   int64 \n",
            " 1   keyword   7552 non-null   object\n",
            " 2   location  5080 non-null   object\n",
            " 3   text      7613 non-null   object\n",
            " 4   target    7613 non-null   int64 \n",
            "dtypes: int64(2), object(3)\n",
            "memory usage: 297.5+ KB\n"
          ],
          "name": "stdout"
        },
        {
          "output_type": "execute_result",
          "data": {
            "text/html": [
              "<div>\n",
              "<style scoped>\n",
              "    .dataframe tbody tr th:only-of-type {\n",
              "        vertical-align: middle;\n",
              "    }\n",
              "\n",
              "    .dataframe tbody tr th {\n",
              "        vertical-align: top;\n",
              "    }\n",
              "\n",
              "    .dataframe thead th {\n",
              "        text-align: right;\n",
              "    }\n",
              "</style>\n",
              "<table border=\"1\" class=\"dataframe\">\n",
              "  <thead>\n",
              "    <tr style=\"text-align: right;\">\n",
              "      <th></th>\n",
              "      <th>id</th>\n",
              "      <th>keyword</th>\n",
              "      <th>location</th>\n",
              "      <th>text</th>\n",
              "      <th>target</th>\n",
              "    </tr>\n",
              "  </thead>\n",
              "  <tbody>\n",
              "    <tr>\n",
              "      <th>0</th>\n",
              "      <td>1</td>\n",
              "      <td>NaN</td>\n",
              "      <td>NaN</td>\n",
              "      <td>Our Deeds are the Reason of this #earthquake M...</td>\n",
              "      <td>1</td>\n",
              "    </tr>\n",
              "    <tr>\n",
              "      <th>1</th>\n",
              "      <td>4</td>\n",
              "      <td>NaN</td>\n",
              "      <td>NaN</td>\n",
              "      <td>Forest fire near La Ronge Sask. Canada</td>\n",
              "      <td>1</td>\n",
              "    </tr>\n",
              "    <tr>\n",
              "      <th>2</th>\n",
              "      <td>5</td>\n",
              "      <td>NaN</td>\n",
              "      <td>NaN</td>\n",
              "      <td>All residents asked to 'shelter in place' are ...</td>\n",
              "      <td>1</td>\n",
              "    </tr>\n",
              "    <tr>\n",
              "      <th>3</th>\n",
              "      <td>6</td>\n",
              "      <td>NaN</td>\n",
              "      <td>NaN</td>\n",
              "      <td>13,000 people receive #wildfires evacuation or...</td>\n",
              "      <td>1</td>\n",
              "    </tr>\n",
              "    <tr>\n",
              "      <th>4</th>\n",
              "      <td>7</td>\n",
              "      <td>NaN</td>\n",
              "      <td>NaN</td>\n",
              "      <td>Just got sent this photo from Ruby #Alaska as ...</td>\n",
              "      <td>1</td>\n",
              "    </tr>\n",
              "  </tbody>\n",
              "</table>\n",
              "</div>"
            ],
            "text/plain": [
              "   id keyword  ...                                               text target\n",
              "0   1     NaN  ...  Our Deeds are the Reason of this #earthquake M...      1\n",
              "1   4     NaN  ...             Forest fire near La Ronge Sask. Canada      1\n",
              "2   5     NaN  ...  All residents asked to 'shelter in place' are ...      1\n",
              "3   6     NaN  ...  13,000 people receive #wildfires evacuation or...      1\n",
              "4   7     NaN  ...  Just got sent this photo from Ruby #Alaska as ...      1\n",
              "\n",
              "[5 rows x 5 columns]"
            ]
          },
          "metadata": {
            "tags": []
          },
          "execution_count": 5
        }
      ]
    },
    {
      "cell_type": "code",
      "metadata": {
        "colab": {
          "base_uri": "https://localhost:8080/"
        },
        "id": "IaG-p0G9hS60",
        "outputId": "ff98ab80-9d3e-4d49-db22-4575507b2ef3"
      },
      "source": [
        "train_df.shape"
      ],
      "execution_count": 6,
      "outputs": [
        {
          "output_type": "execute_result",
          "data": {
            "text/plain": [
              "(7613, 5)"
            ]
          },
          "metadata": {
            "tags": []
          },
          "execution_count": 6
        }
      ]
    },
    {
      "cell_type": "code",
      "metadata": {
        "colab": {
          "base_uri": "https://localhost:8080/"
        },
        "id": "3lmWu-0thWC1",
        "outputId": "41a121e7-a015-4d36-faec-b2e96dd4e92b"
      },
      "source": [
        "train_df.isnull().sum().sort_values(ascending=False)"
      ],
      "execution_count": 7,
      "outputs": [
        {
          "output_type": "execute_result",
          "data": {
            "text/plain": [
              "location    2533\n",
              "keyword       61\n",
              "target         0\n",
              "text           0\n",
              "id             0\n",
              "dtype: int64"
            ]
          },
          "metadata": {
            "tags": []
          },
          "execution_count": 7
        }
      ]
    },
    {
      "cell_type": "code",
      "metadata": {
        "colab": {
          "base_uri": "https://localhost:8080/"
        },
        "id": "z5Yuo1JxhhKY",
        "outputId": "916ae888-7b40-49e1-c532-087889cff8f8"
      },
      "source": [
        "train_df = train_df.drop_duplicates(subset=['text', 'target'], keep='first')\n",
        "train_df.shape"
      ],
      "execution_count": 8,
      "outputs": [
        {
          "output_type": "execute_result",
          "data": {
            "text/plain": [
              "(7521, 5)"
            ]
          },
          "metadata": {
            "tags": []
          },
          "execution_count": 8
        }
      ]
    },
    {
      "cell_type": "code",
      "metadata": {
        "colab": {
          "base_uri": "https://localhost:8080/",
          "height": 295
        },
        "id": "jSrKuKa5hwSb",
        "outputId": "7f28a32c-239d-4c3b-ddc8-232c615febfe"
      },
      "source": [
        "sns.countplot(x=train_df['target'])\n",
        "plt.title('Count of values in the target field')\n",
        "plt.show()"
      ],
      "execution_count": 9,
      "outputs": [
        {
          "output_type": "display_data",
          "data": {
            "image/png": "[encoded data removed]",
            "text/plain": [
              "<Figure size 432x288 with 1 Axes>"
            ]
          },
          "metadata": {
            "tags": [],
            "needs_background": "light"
          }
        }
      ]
    },
    {
      "cell_type": "markdown",
      "metadata": {
        "id": "zZPCOwKOIT5p"
      },
      "source": [
        "There is a class imbalance in the target feature."
      ]
    },
    {
      "cell_type": "code",
      "metadata": {
        "colab": {
          "base_uri": "https://localhost:8080/",
          "height": 374
        },
        "id": "iKXBB0PztoeR",
        "outputId": "e9c97c07-7340-4b18-a475-ab3a75c77a7c"
      },
      "source": [
        "vocabulary_list = pd.Series([word.lower().strip() for sent in train_df['text'].str.split() for word in sent])\n",
        "top_20_words = vocabulary_list.value_counts().head(20)\n",
        "\n",
        "plt.figure(figsize=(14,6))\n",
        "sns.barplot(x=top_20_words, y=top_20_words.index)\n",
        "plt.show()"
      ],
      "execution_count": 10,
      "outputs": [
        {
          "output_type": "display_data",
          "data": {
            "image/png": "[encoded data removed]",
            "text/plain": [
              "<Figure size 1008x432 with 1 Axes>"
            ]
          },
          "metadata": {
            "tags": [],
            "needs_background": "light"
          }
        }
      ]
    },
    {
      "cell_type": "code",
      "metadata": {
        "colab": {
          "base_uri": "https://localhost:8080/"
        },
        "id": "x5_RJkd2yCRk",
        "outputId": "6c012f68-2f7b-4158-caa6-56fb8c387012"
      },
      "source": [
        "len(set(vocabulary_list))"
      ],
      "execution_count": 11,
      "outputs": [
        {
          "output_type": "execute_result",
          "data": {
            "text/plain": [
              "27983"
            ]
          },
          "metadata": {
            "tags": []
          },
          "execution_count": 11
        }
      ]
    },
    {
      "cell_type": "markdown",
      "metadata": {
        "id": "DgUKOTWKvTWA"
      },
      "source": [
        "#Text Cleaning\n",
        "\n",
        "The following code will do the following:\n",
        "\n",
        "* Convert all characters to lower case\n",
        "* Remove all numeric characters\n",
        "* Remove all punctuation\n",
        "* Remove common words\n",
        "* Lemmatize based on POS tag"
      ]
    },
    {
      "cell_type": "code",
      "metadata": {
        "id": "DsbiIcumo46q"
      },
      "source": [
        "def get_wordnet_pos(word):\n",
        "    \"\"\"Map POS tag to first character lemmatize() accepts\"\"\"\n",
        "    tag = pos_tag([word])[0][1][0].upper()\n",
        "    tag_dict = {\"J\": wordnet.ADJ,\n",
        "                \"N\": wordnet.NOUN,\n",
        "                \"V\": wordnet.VERB,\n",
        "                \"R\": wordnet.ADV}\n",
        "\n",
        "    return tag_dict.get(tag, wordnet.NOUN)\n",
        "\n",
        "lemmatizer = WordNetLemmatizer()\n",
        "stop = stopwords.words('english')\n",
        "\n",
        "def clean_text(text):\n",
        "  text = text.lower()\n",
        "  text = re.sub('[0-9]', '', text)\n",
        "  text = re.sub('[^\\w\\s]', '', text)\n",
        "  tokens = word_tokenize(text)\n",
        "  tokens = [token for token in tokens if token not in stop]\n",
        "  tokens = [lemmatizer.lemmatize(token, get_wordnet_pos(token)) for token in tokens]\n",
        "  text = ' '.join(tokens)\n",
        "  \n",
        "  return text"
      ],
      "execution_count": 12,
      "outputs": []
    },
    {
      "cell_type": "code",
      "metadata": {
        "id": "FjjftPkBrpe7"
      },
      "source": [
        "train_df['text_cleaned'] = train_df['text'].apply(clean_text)"
      ],
      "execution_count": 13,
      "outputs": []
    },
    {
      "cell_type": "code",
      "metadata": {
        "colab": {
          "base_uri": "https://localhost:8080/",
          "height": 374
        },
        "id": "To_IuPvBtKs0",
        "outputId": "46620b98-98c3-44ff-994d-8ac671483235"
      },
      "source": [
        "clean_vocabulary_list = pd.Series([word.lower().strip() for sent in train_df['text_cleaned'].str.split() for word in sent])\n",
        "top_20_cleanwords = clean_vocabulary_list.value_counts().head(20)\n",
        "\n",
        "plt.figure(figsize=(14,6))\n",
        "sns.barplot(x=top_20_cleanwords, y=top_20_cleanwords.index)\n",
        "plt.show()"
      ],
      "execution_count": 14,
      "outputs": [
        {
          "output_type": "display_data",
          "data": {
            "image/png": "[encoded data removed]",
            "text/plain": [
              "<Figure size 1008x432 with 1 Axes>"
            ]
          },
          "metadata": {
            "tags": [],
            "needs_background": "light"
          }
        }
      ]
    },
    {
      "cell_type": "code",
      "metadata": {
        "colab": {
          "base_uri": "https://localhost:8080/"
        },
        "id": "b-efUH8pye1h",
        "outputId": "eaf70046-e728-4c3f-ce10-2d1d000fae4b"
      },
      "source": [
        "len(set(clean_vocabulary_list))"
      ],
      "execution_count": 15,
      "outputs": [
        {
          "output_type": "execute_result",
          "data": {
            "text/plain": [
              "19523"
            ]
          },
          "metadata": {
            "tags": []
          },
          "execution_count": 15
        }
      ]
    },
    {
      "cell_type": "markdown",
      "metadata": {
        "id": "8m1xADTHIFwu"
      },
      "source": [
        "The total number of words has decreased by nearly 10,000 after cleaning. From the list of top 20 words, further cleaning could also be done to potentially increase the performance of the models below."
      ]
    },
    {
      "cell_type": "markdown",
      "metadata": {
        "id": "v6yUuYjWzGAG"
      },
      "source": [
        "#Data Modeling"
      ]
    },
    {
      "cell_type": "code",
      "metadata": {
        "id": "FDpnnc2M6LMb"
      },
      "source": [
        "X = train_df['text_cleaned']\n",
        "y = train_df['target']"
      ],
      "execution_count": 16,
      "outputs": []
    },
    {
      "cell_type": "code",
      "metadata": {
        "id": "EE7SV6Hc_ZG3"
      },
      "source": [
        "def build_model(X, y, vectorizer=CountVectorizer(), classifier=RandomForestClassifier(random_state=42)):\n",
        "  X_train, X_test, y_train, y_test = train_test_split(X, y, test_size=0.2, random_state=42)\n",
        "  model = Pipeline([('vectorizer', vectorizer),\n",
        "                ('classifier', classifier)\n",
        "                ])\n",
        "  model.fit(X_train, y_train)\n",
        "  print(f'{model[0].__class__.__name__} {model[1].__class__.__name__} Model Analysis \\n')\n",
        "  print(f'Training Score:{model.score(X_train, y_train):.3f}')\n",
        "  print(f'Test Score:{model.score(X_test, y_test):.3f}\\n')\n",
        "  print(classification_report(y_test, model.predict(X_test)))\n",
        "  plot_confusion_matrix(model, X_test, y_test, values_format='.0f')\n",
        "  plt.show()\n",
        "  scores = cross_val_score(model, X_train, y_train, cv=5, scoring='f1_macro')\n",
        "  print(f'{model[0].__class__.__name__} {model[1].__class__.__name__} AVG Training F1 scores: {scores.mean():.3f}, {scores.std():.3f}')\n",
        "\n",
        "  return model"
      ],
      "execution_count": 28,
      "outputs": []
    },
    {
      "cell_type": "code",
      "metadata": {
        "colab": {
          "base_uri": "https://localhost:8080/",
          "height": 538
        },
        "id": "beTPBLvnCkNw",
        "outputId": "1f14694f-faad-4cf1-d984-55319f0f7962"
      },
      "source": [
        "bow_lr = build_model(X, y, CountVectorizer(), LogisticRegression(random_state=42))"
      ],
      "execution_count": 29,
      "outputs": [
        {
          "output_type": "stream",
          "text": [
            "CountVectorizer LogisticRegression Model Analysis \n",
            "\n",
            "Training Score:0.966\n",
            "Test Score:0.790\n",
            "\n",
            "              precision    recall  f1-score   support\n",
            "\n",
            "           0       0.79      0.86      0.83       863\n",
            "           1       0.79      0.69      0.74       642\n",
            "\n",
            "    accuracy                           0.79      1505\n",
            "   macro avg       0.79      0.78      0.78      1505\n",
            "weighted avg       0.79      0.79      0.79      1505\n",
            "\n"
          ],
          "name": "stdout"
        },
        {
          "output_type": "display_data",
          "data": {
            "image/png": "[encoded data removed]",
            "text/plain": [
              "<Figure size 432x288 with 2 Axes>"
            ]
          },
          "metadata": {
            "tags": [],
            "needs_background": "light"
          }
        },
        {
          "output_type": "stream",
          "text": [
            "CountVectorizer LogisticRegression AVG Training F1 scores: 0.779, 0.011\n"
          ],
          "name": "stdout"
        }
      ]
    },
    {
      "cell_type": "code",
      "metadata": {
        "colab": {
          "base_uri": "https://localhost:8080/",
          "height": 538
        },
        "id": "w32A--UjCQH6",
        "outputId": "0130ecc2-4bf2-4736-e1a5-080598ea2966"
      },
      "source": [
        "bow_rfc = build_model(X, y, CountVectorizer(), RandomForestClassifier(random_state=42))"
      ],
      "execution_count": 30,
      "outputs": [
        {
          "output_type": "stream",
          "text": [
            "CountVectorizer RandomForestClassifier Model Analysis \n",
            "\n",
            "Training Score:0.997\n",
            "Test Score:0.786\n",
            "\n",
            "              precision    recall  f1-score   support\n",
            "\n",
            "           0       0.77      0.90      0.83       863\n",
            "           1       0.83      0.63      0.72       642\n",
            "\n",
            "    accuracy                           0.79      1505\n",
            "   macro avg       0.80      0.77      0.77      1505\n",
            "weighted avg       0.79      0.79      0.78      1505\n",
            "\n"
          ],
          "name": "stdout"
        },
        {
          "output_type": "display_data",
          "data": {
            "image/png": "[encoded data removed]",
            "text/plain": [
              "<Figure size 432x288 with 2 Axes>"
            ]
          },
          "metadata": {
            "tags": [],
            "needs_background": "light"
          }
        },
        {
          "output_type": "stream",
          "text": [
            "CountVectorizer RandomForestClassifier AVG Training F1 scores: 0.770, 0.014\n"
          ],
          "name": "stdout"
        }
      ]
    },
    {
      "cell_type": "code",
      "metadata": {
        "colab": {
          "base_uri": "https://localhost:8080/",
          "height": 538
        },
        "id": "RtLH2TaiGyDY",
        "outputId": "6cb698fd-49dd-4eca-b298-cee8e18e0f2e"
      },
      "source": [
        "bow_gbc = build_model(X, y, CountVectorizer(), GradientBoostingClassifier(random_state=42))"
      ],
      "execution_count": 35,
      "outputs": [
        {
          "output_type": "stream",
          "text": [
            "CountVectorizer GradientBoostingClassifier Model Analysis \n",
            "\n",
            "Training Score:0.775\n",
            "Test Score:0.748\n",
            "\n",
            "              precision    recall  f1-score   support\n",
            "\n",
            "           0       0.71      0.94      0.81       863\n",
            "           1       0.86      0.48      0.62       642\n",
            "\n",
            "    accuracy                           0.75      1505\n",
            "   macro avg       0.79      0.71      0.72      1505\n",
            "weighted avg       0.78      0.75      0.73      1505\n",
            "\n"
          ],
          "name": "stdout"
        },
        {
          "output_type": "display_data",
          "data": {
            "image/png": "[encoded data removed]",
            "text/plain": [
              "<Figure size 432x288 with 2 Axes>"
            ]
          },
          "metadata": {
            "tags": [],
            "needs_background": "light"
          }
        },
        {
          "output_type": "stream",
          "text": [
            "CountVectorizer GradientBoostingClassifier AVG Training F1 scores: 0.709, 0.016\n"
          ],
          "name": "stdout"
        }
      ]
    },
    {
      "cell_type": "code",
      "metadata": {
        "colab": {
          "base_uri": "https://localhost:8080/",
          "height": 538
        },
        "id": "CpiqulXXCPy_",
        "outputId": "7482932a-f362-490d-f783-40c981716b69"
      },
      "source": [
        "tfidf_lr = build_model(X, y, TfidfVectorizer(), LogisticRegression(random_state=42))"
      ],
      "execution_count": 31,
      "outputs": [
        {
          "output_type": "stream",
          "text": [
            "TfidfVectorizer LogisticRegression Model Analysis \n",
            "\n",
            "Training Score:0.894\n",
            "Test Score:0.795\n",
            "\n",
            "              precision    recall  f1-score   support\n",
            "\n",
            "           0       0.79      0.88      0.83       863\n",
            "           1       0.81      0.68      0.74       642\n",
            "\n",
            "    accuracy                           0.79      1505\n",
            "   macro avg       0.80      0.78      0.78      1505\n",
            "weighted avg       0.80      0.79      0.79      1505\n",
            "\n"
          ],
          "name": "stdout"
        },
        {
          "output_type": "display_data",
          "data": {
            "image/png": "[encoded data removed]",
            "text/plain": [
              "<Figure size 432x288 with 2 Axes>"
            ]
          },
          "metadata": {
            "tags": [],
            "needs_background": "light"
          }
        },
        {
          "output_type": "stream",
          "text": [
            "TfidfVectorizer LogisticRegression AVG Training F1 scores: 0.785, 0.011\n"
          ],
          "name": "stdout"
        }
      ]
    },
    {
      "cell_type": "code",
      "metadata": {
        "colab": {
          "base_uri": "https://localhost:8080/",
          "height": 538
        },
        "id": "iWEHoh3x9DoU",
        "outputId": "fde49f07-9d9c-4f6b-ee28-98da3476241e"
      },
      "source": [
        "tfidf_rfc = build_model(X, y, TfidfVectorizer(), RandomForestClassifier(random_state=42))"
      ],
      "execution_count": 32,
      "outputs": [
        {
          "output_type": "stream",
          "text": [
            "TfidfVectorizer RandomForestClassifier Model Analysis \n",
            "\n",
            "Training Score:0.997\n",
            "Test Score:0.779\n",
            "\n",
            "              precision    recall  f1-score   support\n",
            "\n",
            "           0       0.77      0.87      0.82       863\n",
            "           1       0.79      0.66      0.72       642\n",
            "\n",
            "    accuracy                           0.78      1505\n",
            "   macro avg       0.78      0.76      0.77      1505\n",
            "weighted avg       0.78      0.78      0.78      1505\n",
            "\n"
          ],
          "name": "stdout"
        },
        {
          "output_type": "display_data",
          "data": {
            "image/png": "[encoded data removed]",
            "text/plain": [
              "<Figure size 432x288 with 2 Axes>"
            ]
          },
          "metadata": {
            "tags": [],
            "needs_background": "light"
          }
        },
        {
          "output_type": "stream",
          "text": [
            "TfidfVectorizer RandomForestClassifier AVG Training F1 scores: 0.772, 0.017\n"
          ],
          "name": "stdout"
        }
      ]
    },
    {
      "cell_type": "code",
      "metadata": {
        "colab": {
          "base_uri": "https://localhost:8080/",
          "height": 539
        },
        "id": "nBtfISHfGdts",
        "outputId": "4f3acc70-766c-412e-dcf7-84699aae5882"
      },
      "source": [
        "tfidf_gbc = build_model(X, y, TfidfVectorizer(), GradientBoostingClassifier(random_state=42))"
      ],
      "execution_count": 34,
      "outputs": [
        {
          "output_type": "stream",
          "text": [
            "TfidfVectorizer GradientBoostingClassifier Model Analysis \n",
            "\n",
            "Training Score:0.782\n",
            "Test Score:0.748\n",
            "\n",
            "              precision    recall  f1-score   support\n",
            "\n",
            "           0       0.71      0.94      0.81       863\n",
            "           1       0.86      0.49      0.63       642\n",
            "\n",
            "    accuracy                           0.75      1505\n",
            "   macro avg       0.78      0.72      0.72      1505\n",
            "weighted avg       0.77      0.75      0.73      1505\n",
            "\n"
          ],
          "name": "stdout"
        },
        {
          "output_type": "display_data",
          "data": {
            "image/png": "[encoded data removed]",
            "text/plain": [
              "<Figure size 432x288 with 2 Axes>"
            ]
          },
          "metadata": {
            "tags": [],
            "needs_background": "light"
          }
        },
        {
          "output_type": "stream",
          "text": [
            "TfidfVectorizer GradientBoostingClassifier AVG Training F1 scores: 0.709, 0.015\n"
          ],
          "name": "stdout"
        }
      ]
    },
    {
      "cell_type": "markdown",
      "metadata": {
        "id": "v6DzHyPkF716"
      },
      "source": [
        "There is a class imbalance in the target data that is causing the models to overfit the training sets. The best model that appears to handle this issue (at default parameters) is GradientBoostingClassifier using TfidfVectorize, although at a cost of test performance. If overfitting isn't an issue then good old LogisticRegression with TfidfVectorizer appears to have the best test scores of all the models. Of course, parameter optimization would need to be performed in order to correctly determine the best model to use going forward."
      ]
    },
    {
      "cell_type": "code",
      "metadata": {
        "id": "8I630bHVEDaO"
      },
      "source": [
        ""
      ],
      "execution_count": 32,
      "outputs": []
    }
  ]
}